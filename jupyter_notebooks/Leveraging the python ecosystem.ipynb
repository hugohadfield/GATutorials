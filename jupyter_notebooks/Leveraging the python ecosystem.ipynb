{
 "cells": [
  {
   "cell_type": "markdown",
   "metadata": {},
   "source": [
    "# Leveraging the python ecosystem\n",
    "\n",
    "There are a range of reasons to choose Python as a programming language but the **best** reason is speed of development. It is dynamically typed and interpretted and the wider Python ecosystem is outstanding. Python is swiftly becoming **the** defualt language for science and academia. In this notebook we will have a look at using some of the available functionality in other python package in conjuntion with clifford."
   ]
  },
  {
   "cell_type": "code",
   "execution_count": 1,
   "metadata": {},
   "outputs": [],
   "source": [
    "## IF YOU HAVE PROBLEMS WITH NUMBA WHEN RUNNING THE LIBRARY THEN UNCOMMENT THE FOLLOWING LINES\n",
    "import os\n",
    "os.environ['NUMBA_DISABLE_JIT'] = \"1\"\n",
    "\n",
    "## Import all the clifford 3D tools and conformal tools\n",
    "from clifford.tools.g3 import *\n",
    "from clifford.tools.g3c import *"
   ]
  },
  {
   "cell_type": "code",
   "execution_count": null,
   "metadata": {},
   "outputs": [],
   "source": []
  }
 ],
 "metadata": {
  "kernelspec": {
   "display_name": "Python 3",
   "language": "python",
   "name": "python3"
  },
  "language_info": {
   "codemirror_mode": {
    "name": "ipython",
    "version": 3
   },
   "file_extension": ".py",
   "mimetype": "text/x-python",
   "name": "python",
   "nbconvert_exporter": "python",
   "pygments_lexer": "ipython3",
   "version": "3.7.1"
  }
 },
 "nbformat": 4,
 "nbformat_minor": 2
}
