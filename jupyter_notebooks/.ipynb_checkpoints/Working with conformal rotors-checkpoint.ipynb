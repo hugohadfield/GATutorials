{
 "cells": [
  {
   "cell_type": "markdown",
   "metadata": {},
   "source": [
    "# Working with conformal rotors\n",
    "\n",
    "Rotors are the core of many geometric algebra algorithms, in this notebook we will see how to work with rotors in python"
   ]
  },
  {
   "cell_type": "code",
   "execution_count": 2,
   "metadata": {},
   "outputs": [],
   "source": [
    "## IF YOU HAVE PROBLEMS WITH NUMBA WHEN RUNNING THE LIBRARY THEN UNCOMMENT THE FOLLOWING LINES\n",
    "import os\n",
    "os.environ['NUMBA_DISABLE_JIT'] = \"1\"\n",
    "\n",
    "## Import all the clifford 3D tools and conformal tools\n",
    "from clifford.tools.g3 import *\n",
    "from clifford.tools.g3c import *\n",
    "from pyganja import *"
   ]
  },
  {
   "cell_type": "markdown",
   "metadata": {},
   "source": [
    "## Generating rotors\n",
    "\n",
    "We can rotate, translate, transverse and scale with conformal rotors. We have functionality to generate them to order as well as to generate random rotors"
   ]
  },
  {
   "cell_type": "code",
   "execution_count": 8,
   "metadata": {},
   "outputs": [
    {
     "name": "stdout",
     "output_type": "stream",
     "text": [
      "Translation rotor:  1.0 - (1.5^e14) - (1.5^e15)\n",
      "Rotation rotor:  0.86603 - (0.5^e12)\n",
      "Dilation rotor:  1.06066 + (0.35355^e45)\n",
      "Random rigid body rotor:  0.99998 - (0.00274^e12) - (0.00529^e13) - (6.43237^e14) - (6.43237^e15) + (0.00122^e23) + (2.85687^e24) + (2.85687^e25) - (7.71054^e34) - (7.71054^e35) + (0.0284^e1234) + (0.0284^e1235)\n"
     ]
    }
   ],
   "source": [
    "T = generate_translation_rotor(3*e1)\n",
    "print('Translation rotor: ', T)\n",
    "\n",
    "R = generate_rotation_rotor(3.14159265/3, e1, e2)\n",
    "print('Rotation rotor: ', R)\n",
    "\n",
    "D = generate_dilation_rotor(0.5)\n",
    "print('Dilation rotor: ', D)\n",
    "\n",
    "print('Random rigid body rotor: ', random_rotation_translation_rotor()  )"
   ]
  },
  {
   "cell_type": "markdown",
   "metadata": {},
   "source": [
    "## Logarithm of rotors and exponentatial of bivectors\n",
    "\n",
    "The tools for converting between rotors and bivectors can be found in the rotor_parameterisation subsection of the clifford.tools.g3c library"
   ]
  },
  {
   "cell_type": "code",
   "execution_count": 10,
   "metadata": {},
   "outputs": [],
   "source": [
    "from clifford.tools.g3c.rotor_parameterisation import *"
   ]
  },
  {
   "cell_type": "markdown",
   "metadata": {},
   "source": [
    "Here we have an implementation of the general logarithm of a conformal rotor"
   ]
  },
  {
   "cell_type": "code",
   "execution_count": 24,
   "metadata": {},
   "outputs": [
    {
     "name": "stdout",
     "output_type": "stream",
     "text": [
      "Original rotor  0.8503 - (0.50975^e12) - (0.08742^e13) - (4.90273^e14) - (4.90273^e15) - (0.10034^e23) + (5.21445^e24) + (5.21445^e25) + (10.52553^e34) + (10.52553^e35) + (0.02008^e45) - (5.1953^e1234) - (5.1953^e1235) - (0.01204^e1245) - (0.00206^e1345) - (0.00237^e2345)\n",
      "\n",
      "Bivector  -(0.53671^e12) - (0.09205^e13) - (4.99804^e14) - (4.99804^e15) - (0.10564^e23) + (5.28804^e24) + (5.28804^e25) + (12.08456^e34) + (12.08456^e35) + (0.02362^e45)\n",
      "\n",
      "Reconstructed rotor  0.8503 - (0.50975^e12) - (0.08742^e13) - (4.90273^e14) - (4.90273^e15) - (0.10034^e23) + (5.21445^e24) + (5.21445^e25) + (10.52553^e34) + (10.52553^e35) + (0.02008^e45) - (5.1953^e1234) - (5.1953^e1235) - (0.01204^e1245) - (0.00206^e1345) - (0.00237^e2345)\n"
     ]
    }
   ],
   "source": [
    "# Create a random rotor\n",
    "R = (random_rotation_translation_rotor()*generate_dilation_rotor(0.5 + np.random.rand())).normal()\n",
    "\n",
    "# Take the natural log to produce a bivector\n",
    "biv = general_logarithm(R)\n",
    "\n",
    "# e**biv will give the original rotor \n",
    "R_reconstruct = np.e**biv\n",
    "\n",
    "# Assert that the rotor coefficients are equal to 7 decimal places\n",
    "np.testing.assert_almost_equal(R.value, R_reconstruct.value)\n",
    "\n",
    "print('Original rotor ', R)\n",
    "print('')\n",
    "print('Bivector ', biv)\n",
    "print('')\n",
    "print('Reconstructed rotor ', R_reconstruct)"
   ]
  },
  {
   "cell_type": "markdown",
   "metadata": {},
   "source": [
    "We can use the logarithm of rotors to interpolate between conformal objects"
   ]
  },
  {
   "cell_type": "code",
   "execution_count": null,
   "metadata": {},
   "outputs": [],
   "source": [
    "C1 = random_circle()\n",
    "C2 = random_circle()\n",
    "R = rotor_between_objects(C1,C2)\n",
    "\n",
    "delta_biv = general_logarithm(R)\n",
    "bivector_list = [delta_biv*i/10 for i in range(10)]\n",
    "rotor_list = [np.e**b for b in bivector_list]\n",
    "circle_list =[(r*C1*~r).normal() for r in rotor_list]"
   ]
  }
 ],
 "metadata": {
  "kernelspec": {
   "display_name": "Python 3",
   "language": "python",
   "name": "python3"
  },
  "language_info": {
   "codemirror_mode": {
    "name": "ipython",
    "version": 3
   },
   "file_extension": ".py",
   "mimetype": "text/x-python",
   "name": "python",
   "nbconvert_exporter": "python",
   "pygments_lexer": "ipython3",
   "version": "3.7.1"
  }
 },
 "nbformat": 4,
 "nbformat_minor": 2
}
