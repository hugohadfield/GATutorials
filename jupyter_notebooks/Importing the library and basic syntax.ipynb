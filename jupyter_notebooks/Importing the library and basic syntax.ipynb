{
 "cells": [
  {
   "cell_type": "markdown",
   "metadata": {},
   "source": [
    "# Conformal Geometric Algebra with Python\n",
    "\n",
    "This sequence of notebooks is an introduction to conformal geometric algebra in the Python programming language.\n",
    "\n",
    "## Importing the library"
   ]
  },
  {
   "cell_type": "markdown",
   "metadata": {},
   "source": [
    "We use a just in time compiler to make the code much faster, if it is not compatible with your system (often a problem with windows, especially 32 bit machines) then you need to disable it by uncommenting the contents of the next cell"
   ]
  },
  {
   "cell_type": "code",
   "execution_count": 1,
   "metadata": {},
   "outputs": [],
   "source": [
    "## IF YOU HAVE PROBLEMS WITH NUMBA WHEN RUNNING THE LIBRARY THEN RUN THIS FIRST!\n",
    "import os\n",
    "os.environ['NUMBA_DISABLE_JIT'] = \"1\""
   ]
  },
  {
   "cell_type": "markdown",
   "metadata": {},
   "source": [
    "The clifford library contains several pre-designated algebras as well as a mechnism for generating arbitrary metrics. We can import a 4,1 conformal metric as follows:"
   ]
  },
  {
   "cell_type": "code",
   "execution_count": 2,
   "metadata": {},
   "outputs": [],
   "source": [
    "from clifford.g3c import *"
   ]
  },
  {
   "cell_type": "markdown",
   "metadata": {},
   "source": [
    "## Products"
   ]
  },
  {
   "cell_type": "markdown",
   "metadata": {},
   "source": [
    "Multivectors can be written in a sytactically clean way, with the * symbol representing the geometric product"
   ]
  },
  {
   "cell_type": "code",
   "execution_count": 3,
   "metadata": {},
   "outputs": [
    {
     "name": "stdout",
     "output_type": "stream",
     "text": [
      "(2.0^e1) + (3.333^e2) - (100.5^e3) + (5.0^e12)\n"
     ]
    }
   ],
   "source": [
    "A = 2*e1 + 3.333*e2 - 100.5*e3 + 5*e12\n",
    "print(A)"
   ]
  },
  {
   "cell_type": "markdown",
   "metadata": {},
   "source": [
    "The outer product uses the ^ symbol and multivector blades will rearrange and calculate the correct sign change"
   ]
  },
  {
   "cell_type": "code",
   "execution_count": 4,
   "metadata": {},
   "outputs": [
    {
     "name": "stdout",
     "output_type": "stream",
     "text": [
      "-(1.0^e12)\n"
     ]
    }
   ],
   "source": [
    "print( e2^e1 )"
   ]
  },
  {
   "cell_type": "markdown",
   "metadata": {},
   "source": [
    "The (symmetric) inner product uses the | symbol"
   ]
  },
  {
   "cell_type": "code",
   "execution_count": 5,
   "metadata": {},
   "outputs": [
    {
     "name": "stdout",
     "output_type": "stream",
     "text": [
      "e12|e3  0\n",
      "e12|e2  (1.0^e1)\n",
      "e12|e12  -1.0\n"
     ]
    }
   ],
   "source": [
    "print( 'e12|e3 ', e12|e3 )\n",
    "print( 'e12|e2 ', e12|e2 )\n",
    "print( 'e12|e12 ', e12|e12  )"
   ]
  },
  {
   "cell_type": "markdown",
   "metadata": {},
   "source": [
    "Leo Dorst's asymmetric left contraction is implemented via the << symbol"
   ]
  },
  {
   "cell_type": "code",
   "execution_count": 6,
   "metadata": {},
   "outputs": [
    {
     "name": "stdout",
     "output_type": "stream",
     "text": [
      "(1.0^e2)\n",
      "0\n"
     ]
    }
   ],
   "source": [
    "print(e1 << e12)\n",
    "print(e12 << e1)"
   ]
  },
  {
   "cell_type": "markdown",
   "metadata": {},
   "source": [
    "The products obey the expected properties.. distributivity, associativity etc."
   ]
  },
  {
   "cell_type": "code",
   "execution_count": 7,
   "metadata": {},
   "outputs": [
    {
     "name": "stdout",
     "output_type": "stream",
     "text": [
      "-5.0 - (2.5^e1) - (2.0^e3) - (3.4^e12) + (3.4^e145) - (5.0^e245) + (2.5^e1245) - (2.0^e2345)\n"
     ]
    }
   ],
   "source": [
    "B = (e2 + e45)*(3.4*e1 - 5.0*e2 + 2.5*(e1^e2) - 2.0*e345)\n",
    "print(B)"
   ]
  },
  {
   "cell_type": "markdown",
   "metadata": {},
   "source": [
    "Unfortunately python, as with many other programming languages, does not allow redefinition of operator precedence, thus brackets should be used liberally"
   ]
  },
  {
   "cell_type": "code",
   "execution_count": 8,
   "metadata": {},
   "outputs": [
    {
     "name": "stdout",
     "output_type": "stream",
     "text": [
      "Wrong e1|e2 + e3 -> 0\n",
      "Right (e1|e2) + e3 -> (1.0^e3)\n"
     ]
    }
   ],
   "source": [
    "print('Wrong e1|e2 + e3 ->', e1|e2 + e3)\n",
    "print('Right (e1|e2) + e3 ->', (e1|e2) + e3)"
   ]
  },
  {
   "cell_type": "markdown",
   "metadata": {},
   "source": [
    "## Coefficients of canonical blades in the multivector\n",
    "\n",
    "The coefficients of the 32 canonical basis elements of a multivector can be accessed by a linear index using square brackets"
   ]
  },
  {
   "cell_type": "code",
   "execution_count": 9,
   "metadata": {},
   "outputs": [
    {
     "name": "stdout",
     "output_type": "stream",
     "text": [
      "B  -5.0 - (2.5^e1) - (2.0^e3) - (3.4^e12) + (3.4^e145) - (5.0^e245) + (2.5^e1245) - (2.0^e2345)\n",
      "B[0] \t -5.0\n",
      "B[1] \t -2.5\n",
      "B[2] \t 0.0\n",
      "B[3] \t -2.0\n",
      "B[4] \t 0.0\n",
      "B[5] \t 0.0\n",
      "B[6] \t -3.4\n",
      "B[7] \t 0.0\n",
      "B[8] \t 0.0\n",
      "B[9] \t 0.0\n",
      "B[10] \t 0.0\n",
      "B[11] \t 0.0\n",
      "B[12] \t 0.0\n",
      "B[13] \t 0.0\n",
      "B[14] \t 0.0\n",
      "B[15] \t 0.0\n",
      "B[16] \t 0.0\n",
      "B[17] \t 0.0\n",
      "B[18] \t 0.0\n",
      "B[19] \t 0.0\n",
      "B[20] \t 0.0\n",
      "B[21] \t 3.4\n",
      "B[22] \t 0.0\n",
      "B[23] \t 0.0\n",
      "B[24] \t -5.0\n",
      "B[25] \t 0.0\n",
      "B[26] \t 0.0\n",
      "B[27] \t 0.0\n",
      "B[28] \t 2.5\n",
      "B[29] \t 0.0\n",
      "B[30] \t -2.0\n",
      "B[31] \t 0.0\n"
     ]
    }
   ],
   "source": [
    "print('B ', B)\n",
    "for i in range(32):\n",
    "    print('B[' + str(i) + ']', '\\t', B[i])"
   ]
  },
  {
   "cell_type": "markdown",
   "metadata": {},
   "source": [
    "The coefficients can also be accessed with the blade itself as the index"
   ]
  },
  {
   "cell_type": "code",
   "execution_count": 10,
   "metadata": {},
   "outputs": [
    {
     "name": "stdout",
     "output_type": "stream",
     "text": [
      "-5.0 - (2.5^e1) - (2.0^e3) - (3.4^e12) + (3.4^e145) - (5.0^e245) + (2.5^e1245) - (2.0^e2345)\n",
      "B[e12]  -3.4\n"
     ]
    }
   ],
   "source": [
    "print(B)\n",
    "print('B[e12] ', B[e12])"
   ]
  },
  {
   "cell_type": "markdown",
   "metadata": {},
   "source": [
    "## Selecting only specific grades from the multivector\n",
    "\n",
    "The grade selection operation $<B>_g$ is implemented with braces: B(g)"
   ]
  },
  {
   "cell_type": "code",
   "execution_count": 11,
   "metadata": {},
   "outputs": [
    {
     "name": "stdout",
     "output_type": "stream",
     "text": [
      "B(1)  -(2.5^e1) - (2.0^e3)\n",
      "B(2)  -(3.4^e12)\n",
      "B(3)  (3.4^e145) - (5.0^e245)\n",
      "B(4)  (2.5^e1245) - (2.0^e2345)\n",
      "B(5)  0\n"
     ]
    }
   ],
   "source": [
    "print('B(1) ', B(1))\n",
    "print('B(2) ', B(2))\n",
    "print('B(3) ', B(3))\n",
    "print('B(4) ', B(4))\n",
    "print('B(5) ', B(5))"
   ]
  },
  {
   "cell_type": "markdown",
   "metadata": {},
   "source": [
    "We can also select only the blades of the subalgebra defined by a specific pseudoscalar, this is particularly useful to select the 3D euclidean subablgebra from the conformal model"
   ]
  },
  {
   "cell_type": "code",
   "execution_count": 12,
   "metadata": {},
   "outputs": [
    {
     "name": "stdout",
     "output_type": "stream",
     "text": [
      "B  -5.0 - (2.5^e1) - (2.0^e3) - (3.4^e12) + (3.4^e145) - (5.0^e245) + (2.5^e1245) - (2.0^e2345)\n",
      "B(e123)  -5.0 - (2.5^e1) - (2.0^e3) - (3.4^e12)\n",
      "B(e12)  -5.0 - (2.5^e1) - (3.4^e12)\n"
     ]
    }
   ],
   "source": [
    "print( 'B ', B )\n",
    "print( 'B(e123) ', B(e123) )\n",
    "print( 'B(e12) ', B(e12) )"
   ]
  },
  {
   "cell_type": "code",
   "execution_count": null,
   "metadata": {},
   "outputs": [],
   "source": []
  }
 ],
 "metadata": {
  "kernelspec": {
   "display_name": "Python 3",
   "language": "python",
   "name": "python3"
  },
  "language_info": {
   "codemirror_mode": {
    "name": "ipython",
    "version": 3
   },
   "file_extension": ".py",
   "mimetype": "text/x-python",
   "name": "python",
   "nbconvert_exporter": "python",
   "pygments_lexer": "ipython3",
   "version": "3.7.1"
  }
 },
 "nbformat": 4,
 "nbformat_minor": 1
}
